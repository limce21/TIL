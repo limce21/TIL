{
  "nbformat": 4,
  "nbformat_minor": 0,
  "metadata": {
    "colab": {
      "provenance": [],
      "collapsed_sections": [
        "VMkneUxZimga",
        "GNrStz64iJfC",
        "tca7kkhptdbG",
        "kUe-T-p-yxa3",
        "RtdU30TT19Rh"
      ]
    },
    "kernelspec": {
      "name": "python3",
      "display_name": "Python 3"
    },
    "language_info": {
      "name": "python"
    }
  },
  "cells": [
    {
      "cell_type": "markdown",
      "source": [
        "# Numpy\n",
        "---"
      ],
      "metadata": {
        "id": "6A_xmUqUgkIk"
      }
    },
    {
      "cell_type": "markdown",
      "source": [
        "### 세팅"
      ],
      "metadata": {
        "id": "VMkneUxZimga"
      }
    },
    {
      "cell_type": "markdown",
      "source": [
        "Numpy 설치"
      ],
      "metadata": {
        "id": "y0PD1hFKhwRE"
      }
    },
    {
      "cell_type": "code",
      "source": [
        "pip install numpy"
      ],
      "metadata": {
        "colab": {
          "base_uri": "https://localhost:8080/"
        },
        "id": "ocei2XdzhP3D",
        "outputId": "2d17d02c-41c6-4bdf-901e-e751699bca19"
      },
      "execution_count": null,
      "outputs": [
        {
          "output_type": "stream",
          "name": "stdout",
          "text": [
            "Looking in indexes: https://pypi.org/simple, https://us-python.pkg.dev/colab-wheels/public/simple/\n",
            "Requirement already satisfied: numpy in /usr/local/lib/python3.10/dist-packages (1.22.4)\n"
          ]
        }
      ]
    },
    {
      "cell_type": "markdown",
      "source": [
        "Numpy 불러오기"
      ],
      "metadata": {
        "id": "xPt7cFqHhzUy"
      }
    },
    {
      "cell_type": "code",
      "source": [
        "import numpy as np"
      ],
      "metadata": {
        "id": "mmIr7E5mhkXg"
      },
      "execution_count": null,
      "outputs": []
    },
    {
      "cell_type": "markdown",
      "source": [
        "Numpy 버전 알기"
      ],
      "metadata": {
        "id": "n8kvHHglh1-v"
      }
    },
    {
      "cell_type": "code",
      "source": [
        "np.__version__"
      ],
      "metadata": {
        "colab": {
          "base_uri": "https://localhost:8080/",
          "height": 36
        },
        "id": "m8C0_LlBhlvW",
        "outputId": "0937b526-21f7-4b37-a476-46bb3e1521f3"
      },
      "execution_count": null,
      "outputs": [
        {
          "output_type": "execute_result",
          "data": {
            "text/plain": [
              "'1.22.4'"
            ],
            "application/vnd.google.colaboratory.intrinsic+json": {
              "type": "string"
            }
          },
          "metadata": {},
          "execution_count": 3
        }
      ]
    },
    {
      "cell_type": "markdown",
      "source": [
        "### 생성\n",
        "> 대부분의 numpy 기능은 ndarray 객체를 만들어야 한다.\n",
        "\n",
        "ndarray 만들기"
      ],
      "metadata": {
        "id": "GNrStz64iJfC"
      }
    },
    {
      "cell_type": "code",
      "source": [
        "a = np.array([1,2,3])"
      ],
      "metadata": {
        "id": "hY2mDndKiLqs"
      },
      "execution_count": null,
      "outputs": []
    },
    {
      "cell_type": "markdown",
      "source": [
        "마지막 란 객체는 자동 출력"
      ],
      "metadata": {
        "id": "wrFrX8pXjGR5"
      }
    },
    {
      "cell_type": "code",
      "source": [
        "a"
      ],
      "metadata": {
        "colab": {
          "base_uri": "https://localhost:8080/"
        },
        "id": "4ScZ3U2fiZ7E",
        "outputId": "c7717ba4-cd24-4466-f5ad-7b51edf30744"
      },
      "execution_count": null,
      "outputs": [
        {
          "output_type": "execute_result",
          "data": {
            "text/plain": [
              "array([1, 2, 3])"
            ]
          },
          "metadata": {},
          "execution_count": 5
        }
      ]
    },
    {
      "cell_type": "markdown",
      "source": [
        "객체를 프린트하면 형태가 다르다."
      ],
      "metadata": {
        "id": "SULB-9PgjI7l"
      }
    },
    {
      "cell_type": "code",
      "source": [
        "print(a)"
      ],
      "metadata": {
        "colab": {
          "base_uri": "https://localhost:8080/"
        },
        "id": "20Ss--edjA6q",
        "outputId": "543540a9-4e1a-43ff-8e3c-133fe80d7546"
      },
      "execution_count": null,
      "outputs": [
        {
          "output_type": "stream",
          "name": "stdout",
          "text": [
            "[1 2 3]\n"
          ]
        }
      ]
    },
    {
      "cell_type": "markdown",
      "source": [
        "이차원 배열"
      ],
      "metadata": {
        "id": "vCol2Io4jLeW"
      }
    },
    {
      "cell_type": "code",
      "source": [
        "b = np.array([[1,2],[2,3],[4,5]])\n",
        "b"
      ],
      "metadata": {
        "colab": {
          "base_uri": "https://localhost:8080/"
        },
        "id": "oYf6YPGGjELt",
        "outputId": "be6c83ca-b479-4457-fc07-2742e08eb2cd"
      },
      "execution_count": null,
      "outputs": [
        {
          "output_type": "execute_result",
          "data": {
            "text/plain": [
              "array([[1, 2],\n",
              "       [2, 3],\n",
              "       [4, 5]])"
            ]
          },
          "metadata": {},
          "execution_count": 8
        }
      ]
    },
    {
      "cell_type": "markdown",
      "source": [
        "3차원 배열"
      ],
      "metadata": {
        "id": "QG3C9VCbjgUT"
      }
    },
    {
      "cell_type": "code",
      "source": [
        "c = np.array([[[1,2],[2,3],[4,5]]])\n",
        "c"
      ],
      "metadata": {
        "colab": {
          "base_uri": "https://localhost:8080/"
        },
        "id": "4E92fqWRjQ3Q",
        "outputId": "79bdbd34-7d76-4f9a-e5ff-3c4cba079d46"
      },
      "execution_count": null,
      "outputs": [
        {
          "output_type": "execute_result",
          "data": {
            "text/plain": [
              "array([[[1, 2],\n",
              "        [2, 3],\n",
              "        [4, 5]]])"
            ]
          },
          "metadata": {},
          "execution_count": 9
        }
      ]
    },
    {
      "cell_type": "markdown",
      "source": [
        "타입 알기"
      ],
      "metadata": {
        "id": "gh6JxjgjjyrQ"
      }
    },
    {
      "cell_type": "code",
      "source": [
        "type(c)"
      ],
      "metadata": {
        "colab": {
          "base_uri": "https://localhost:8080/"
        },
        "id": "-D4A_ITnjoQf",
        "outputId": "ff9b9065-06c7-4031-b6bc-c326adfbab73"
      },
      "execution_count": null,
      "outputs": [
        {
          "output_type": "execute_result",
          "data": {
            "text/plain": [
              "numpy.ndarray"
            ]
          },
          "metadata": {},
          "execution_count": 10
        }
      ]
    },
    {
      "cell_type": "markdown",
      "source": [
        "a와 b를 여러 라인으로 보자"
      ],
      "metadata": {
        "id": "GbYX55cfkUtn"
      }
    },
    {
      "cell_type": "code",
      "source": [
        "print(a)\n",
        "b"
      ],
      "metadata": {
        "colab": {
          "base_uri": "https://localhost:8080/"
        },
        "id": "jtHf57GHkUZz",
        "outputId": "d8ac074a-3300-45d6-ce6d-7b4ac94d96b1"
      },
      "execution_count": null,
      "outputs": [
        {
          "output_type": "stream",
          "name": "stdout",
          "text": [
            "[1 2 3]\n"
          ]
        },
        {
          "output_type": "execute_result",
          "data": {
            "text/plain": [
              "array([[1, 2],\n",
              "       [2, 3],\n",
              "       [4, 5]])"
            ]
          },
          "metadata": {},
          "execution_count": 12
        }
      ]
    },
    {
      "cell_type": "markdown",
      "source": [
        "속성 알기\n",
        "- shape :  데이터의 형태를 보여준다.\n",
        "- 나열해놓으면 튜플 형태로 반환된다.\n",
        "- 뒤의 콤마의 의미=> 안의 원소가 3개 있다.\n",
        "> (1,3,2) : 제일 안에 있는 리스트가 원소가 2개짜리 -> 그 2개까지가 3개 모여있음 -> 그 3개짜리가 한개\n",
        "=> 안(뒤)에서부터 생각하자."
      ],
      "metadata": {
        "id": "x3cc_05UkGrH"
      }
    },
    {
      "cell_type": "code",
      "source": [
        "a.shape, b.shape, c.shape"
      ],
      "metadata": {
        "colab": {
          "base_uri": "https://localhost:8080/"
        },
        "id": "E33vIyZAj19G",
        "outputId": "efefc776-b731-49fd-c4b9-9ed968604ca4"
      },
      "execution_count": null,
      "outputs": [
        {
          "output_type": "execute_result",
          "data": {
            "text/plain": [
              "((3,), (3, 2), (1, 3, 2))"
            ]
          },
          "metadata": {},
          "execution_count": 11
        }
      ]
    },
    {
      "cell_type": "markdown",
      "source": [
        "데이터 타입 알기\n",
        "- int64 -> 정수 하나를 표시하기 위해 64bit를 사용"
      ],
      "metadata": {
        "id": "1sh4jl-2lvhd"
      }
    },
    {
      "cell_type": "code",
      "source": [
        "c.dtype"
      ],
      "metadata": {
        "colab": {
          "base_uri": "https://localhost:8080/"
        },
        "id": "U4_5A3yRkK2y",
        "outputId": "d0ab320e-ff67-471e-edef-403a5f557a5b"
      },
      "execution_count": null,
      "outputs": [
        {
          "output_type": "execute_result",
          "data": {
            "text/plain": [
              "dtype('int64')"
            ]
          },
          "metadata": {},
          "execution_count": 13
        }
      ]
    },
    {
      "cell_type": "markdown",
      "source": [
        "> numpy는 전체 하나의 타입으로만 가능하다."
      ],
      "metadata": {
        "id": "2tr6Lg1wmTPR"
      }
    },
    {
      "cell_type": "markdown",
      "source": [
        "하나라도 문자열이라면 정수 데이터가 문자열로 변환된다."
      ],
      "metadata": {
        "id": "MFnSbh7LmmLx"
      }
    },
    {
      "cell_type": "code",
      "source": [
        "a = np.array([1,'2',3])\n",
        "a.dtype"
      ],
      "metadata": {
        "colab": {
          "base_uri": "https://localhost:8080/"
        },
        "id": "OHJ0TzmQlxU_",
        "outputId": "e34d73af-4ac6-42e3-ac06-89fcd5ad5d2b"
      },
      "execution_count": null,
      "outputs": [
        {
          "output_type": "execute_result",
          "data": {
            "text/plain": [
              "dtype('<U21')"
            ]
          },
          "metadata": {},
          "execution_count": 14
        }
      ]
    },
    {
      "cell_type": "markdown",
      "source": [
        "numpy은 다차원 데이터를 다루기 때문에 축이 존재한다.\n",
        "- vector: 축이 하나 -> 0번째 축\n",
        "- 2차원 -> row가 축 (2,3,) => 행이 2, 열이 3"
      ],
      "metadata": {
        "id": "kB__l5GPm6u3"
      }
    },
    {
      "cell_type": "markdown",
      "source": [
        "0으로 채우기"
      ],
      "metadata": {
        "id": "U-8-169WsOqm"
      }
    },
    {
      "cell_type": "code",
      "source": [
        "np.zeros((3,4,2))"
      ],
      "metadata": {
        "colab": {
          "base_uri": "https://localhost:8080/"
        },
        "id": "bGs-RDmFmhF8",
        "outputId": "3d3ca79c-9a1f-459c-e2bf-08a6bdc5a389"
      },
      "execution_count": null,
      "outputs": [
        {
          "output_type": "execute_result",
          "data": {
            "text/plain": [
              "array([[[0., 0.],\n",
              "        [0., 0.],\n",
              "        [0., 0.],\n",
              "        [0., 0.]],\n",
              "\n",
              "       [[0., 0.],\n",
              "        [0., 0.],\n",
              "        [0., 0.],\n",
              "        [0., 0.]],\n",
              "\n",
              "       [[0., 0.],\n",
              "        [0., 0.],\n",
              "        [0., 0.],\n",
              "        [0., 0.]]])"
            ]
          },
          "metadata": {},
          "execution_count": 16
        }
      ]
    },
    {
      "cell_type": "markdown",
      "source": [
        "1로 채우기"
      ],
      "metadata": {
        "id": "sQIxrrxmsVbo"
      }
    },
    {
      "cell_type": "code",
      "source": [
        "a = np.ones((2,3))\n",
        "a"
      ],
      "metadata": {
        "colab": {
          "base_uri": "https://localhost:8080/"
        },
        "id": "DODt6XS8sEpE",
        "outputId": "cebd45d5-32de-4ec6-d762-ea62aada45e6"
      },
      "execution_count": null,
      "outputs": [
        {
          "output_type": "execute_result",
          "data": {
            "text/plain": [
              "array([[1., 1., 1.],\n",
              "       [1., 1., 1.]])"
            ]
          },
          "metadata": {},
          "execution_count": 19
        }
      ]
    },
    {
      "cell_type": "markdown",
      "source": [
        "a와 똑같은 형태(차원을 가진)를 만들어 0으로 채우자"
      ],
      "metadata": {
        "id": "d86uLCFcsm7B"
      }
    },
    {
      "cell_type": "code",
      "source": [
        "np.zeros_like(a)"
      ],
      "metadata": {
        "colab": {
          "base_uri": "https://localhost:8080/"
        },
        "id": "bYvsWe2KsZxx",
        "outputId": "4b73382a-e624-4635-fc7c-b5e687415519"
      },
      "execution_count": null,
      "outputs": [
        {
          "output_type": "execute_result",
          "data": {
            "text/plain": [
              "array([[0., 0., 0.],\n",
              "       [0., 0., 0.]])"
            ]
          },
          "metadata": {},
          "execution_count": 20
        }
      ]
    },
    {
      "cell_type": "code",
      "source": [
        "list(range(5))"
      ],
      "metadata": {
        "colab": {
          "base_uri": "https://localhost:8080/"
        },
        "id": "RUhMyd4Gs6hC",
        "outputId": "e80ac004-0336-456b-e62a-255b611d5f52"
      },
      "execution_count": null,
      "outputs": [
        {
          "output_type": "execute_result",
          "data": {
            "text/plain": [
              "[0, 1, 2, 3, 4]"
            ]
          },
          "metadata": {},
          "execution_count": 24
        }
      ]
    },
    {
      "cell_type": "markdown",
      "source": [
        "0부터 9까지의 배열 만들기"
      ],
      "metadata": {
        "id": "M1hFkgYPs9Xw"
      }
    },
    {
      "cell_type": "code",
      "source": [
        "np.arange(10)"
      ],
      "metadata": {
        "colab": {
          "base_uri": "https://localhost:8080/"
        },
        "id": "fOtDI30IstCM",
        "outputId": "16b8bf8e-cd53-42f7-f654-710419c8404d"
      },
      "execution_count": null,
      "outputs": [
        {
          "output_type": "execute_result",
          "data": {
            "text/plain": [
              "array([0, 1, 2, 3, 4, 5, 6, 7, 8, 9])"
            ]
          },
          "metadata": {},
          "execution_count": 23
        }
      ]
    },
    {
      "cell_type": "markdown",
      "source": [
        "### numpy 랜덤"
      ],
      "metadata": {
        "id": "tca7kkhptdbG"
      }
    },
    {
      "cell_type": "markdown",
      "source": [
        "정규분포\n",
        "\n",
        "- 표준 정규분포 : 평균을 0으로 잡음\n",
        "\n",
        "랜덤\n",
        "1. uniform : 뽑을 때 확률이 동일\n",
        "2. 정규분포(normal) : 10번을 뽑으면 중간 값들이 뽑일 확률이 높다."
      ],
      "metadata": {
        "id": "C8aMDg33tlJO"
      }
    },
    {
      "cell_type": "markdown",
      "source": [
        "(정규분포) 평균이 10이고 표준편차가 3인 데이터를 (2,3) shape으로 추출하자"
      ],
      "metadata": {
        "id": "FSOkCklRuvkZ"
      }
    },
    {
      "cell_type": "code",
      "source": [
        "np.random.normal(10,3,(2,3))"
      ],
      "metadata": {
        "colab": {
          "base_uri": "https://localhost:8080/"
        },
        "id": "4G8Rn3RVs1eT",
        "outputId": "ddaad486-36e9-4d0f-87db-11f4aaa7dbac"
      },
      "execution_count": null,
      "outputs": [
        {
          "output_type": "execute_result",
          "data": {
            "text/plain": [
              "array([[ 8.25861157, 12.34742781, 11.14404986],\n",
              "       [12.6413804 ,  8.24976254,  9.58550386]])"
            ]
          },
          "metadata": {},
          "execution_count": 25
        }
      ]
    },
    {
      "cell_type": "markdown",
      "source": [
        "(uniform) 0하고 1 사이의 (3,2) shape으로 추출하자"
      ],
      "metadata": {
        "id": "MSoqHZZavS0A"
      }
    },
    {
      "cell_type": "code",
      "source": [
        "np.random.rand(3,2)"
      ],
      "metadata": {
        "colab": {
          "base_uri": "https://localhost:8080/"
        },
        "id": "u4Q6Fy3Wu3JA",
        "outputId": "79ced3c7-e3b5-409f-9476-4bcf3283cbd8"
      },
      "execution_count": null,
      "outputs": [
        {
          "output_type": "execute_result",
          "data": {
            "text/plain": [
              "array([[0.89848574, 0.15791151],\n",
              "       [0.92610985, 0.66330313],\n",
              "       [0.82268564, 0.14886121]])"
            ]
          },
          "metadata": {},
          "execution_count": 27
        }
      ]
    },
    {
      "cell_type": "markdown",
      "source": [
        "(표준정규분포) 평균이 0이고 표준편차가 1인 (3,4) shape으로 추출하자."
      ],
      "metadata": {
        "id": "kH_Alze9vhHZ"
      }
    },
    {
      "cell_type": "code",
      "source": [
        "np.random.randn(3,4)"
      ],
      "metadata": {
        "colab": {
          "base_uri": "https://localhost:8080/"
        },
        "id": "vw9gbokLvbgI",
        "outputId": "95638ec0-f72e-492a-8be1-3a53fca962ee"
      },
      "execution_count": null,
      "outputs": [
        {
          "output_type": "execute_result",
          "data": {
            "text/plain": [
              "array([[ 0.03970067,  1.15767768, -0.36796478,  1.9482811 ],\n",
              "       [ 1.95986807,  0.680644  , -1.53896224, -1.14943227],\n",
              "       [-0.07497294,  0.44503167, -0.71108344,  1.27844094]])"
            ]
          },
          "metadata": {},
          "execution_count": 28
        }
      ]
    },
    {
      "cell_type": "markdown",
      "source": [
        "0부터 11까지 배열 a"
      ],
      "metadata": {
        "id": "RDn-VMzUv1qI"
      }
    },
    {
      "cell_type": "code",
      "source": [
        "a = np.arange(12)\n",
        "a"
      ],
      "metadata": {
        "colab": {
          "base_uri": "https://localhost:8080/"
        },
        "id": "yjmXwhCAvrqf",
        "outputId": "a0805c85-c3c8-497e-c264-c44ad5973c03"
      },
      "execution_count": null,
      "outputs": [
        {
          "output_type": "execute_result",
          "data": {
            "text/plain": [
              "array([ 0,  1,  2,  3,  4,  5,  6,  7,  8,  9, 10, 11])"
            ]
          },
          "metadata": {},
          "execution_count": 32
        }
      ]
    },
    {
      "cell_type": "code",
      "source": [
        "a.shape"
      ],
      "metadata": {
        "colab": {
          "base_uri": "https://localhost:8080/"
        },
        "id": "JSo4V6fUwrfe",
        "outputId": "e2d3414d-ca41-4ed2-8770-2a8d2621c35c"
      },
      "execution_count": null,
      "outputs": [
        {
          "output_type": "execute_result",
          "data": {
            "text/plain": [
              "(12,)"
            ]
          },
          "metadata": {},
          "execution_count": 34
        }
      ]
    },
    {
      "cell_type": "markdown",
      "source": [
        "reshape\n",
        "\n",
        ": 모델이 원하는 형태로 데이터를 가공하자\n",
        "\n",
        "> numpy는 원래 원본이 바뀌지 않는다."
      ],
      "metadata": {
        "id": "dDZUR6zawRJR"
      }
    },
    {
      "cell_type": "code",
      "source": [
        "a = a.reshape(3,4)\n",
        "a"
      ],
      "metadata": {
        "colab": {
          "base_uri": "https://localhost:8080/"
        },
        "id": "u4YfrBsfv6wr",
        "outputId": "bca7be93-5bc6-4d46-a58b-157d6e38d319"
      },
      "execution_count": null,
      "outputs": [
        {
          "output_type": "execute_result",
          "data": {
            "text/plain": [
              "array([[ 0,  1,  2,  3],\n",
              "       [ 4,  5,  6,  7],\n",
              "       [ 8,  9, 10, 11]])"
            ]
          },
          "metadata": {},
          "execution_count": 37
        }
      ]
    },
    {
      "cell_type": "code",
      "source": [
        "a = a.reshape(2,3,2)\n",
        "a.shape"
      ],
      "metadata": {
        "colab": {
          "base_uri": "https://localhost:8080/"
        },
        "id": "KpWd-tnPw0ov",
        "outputId": "aa71a161-03d5-4115-f588-2a0e8656702f"
      },
      "execution_count": null,
      "outputs": [
        {
          "output_type": "execute_result",
          "data": {
            "text/plain": [
              "(2, 3, 2)"
            ]
          },
          "metadata": {},
          "execution_count": 38
        }
      ]
    },
    {
      "cell_type": "code",
      "source": [
        "a"
      ],
      "metadata": {
        "colab": {
          "base_uri": "https://localhost:8080/"
        },
        "id": "Ow1Ce9coxTVs",
        "outputId": "42507f7f-65ce-4f49-f961-b3588822d455"
      },
      "execution_count": null,
      "outputs": [
        {
          "output_type": "execute_result",
          "data": {
            "text/plain": [
              "array([[[ 0,  1],\n",
              "        [ 2,  3],\n",
              "        [ 4,  5]],\n",
              "\n",
              "       [[ 6,  7],\n",
              "        [ 8,  9],\n",
              "        [10, 11]]])"
            ]
          },
          "metadata": {},
          "execution_count": 39
        }
      ]
    },
    {
      "cell_type": "markdown",
      "source": [
        "(-1, 2, 2) : 데이터가 몇 개 있는지는 모르지만 최종적으로 (2,2)짜리 matrix가 여러개 있었으면 좋겠다."
      ],
      "metadata": {
        "id": "xfrqCNOCxkMD"
      }
    },
    {
      "cell_type": "code",
      "source": [
        "a = a.reshape(-1,2,2)\n",
        "a"
      ],
      "metadata": {
        "colab": {
          "base_uri": "https://localhost:8080/"
        },
        "id": "-b4D1AObxYUr",
        "outputId": "34a254f6-b704-4675-e9bb-a190738a1ed0"
      },
      "execution_count": null,
      "outputs": [
        {
          "output_type": "execute_result",
          "data": {
            "text/plain": [
              "array([[[ 0,  1],\n",
              "        [ 2,  3]],\n",
              "\n",
              "       [[ 4,  5],\n",
              "        [ 6,  7]],\n",
              "\n",
              "       [[ 8,  9],\n",
              "        [10, 11]]])"
            ]
          },
          "metadata": {},
          "execution_count": 40
        }
      ]
    },
    {
      "cell_type": "markdown",
      "source": [
        "### 연산"
      ],
      "metadata": {
        "id": "kUe-T-p-yxa3"
      }
    },
    {
      "cell_type": "markdown",
      "source": [
        "산술연산"
      ],
      "metadata": {
        "id": "Tne5kkQ-x9X7"
      }
    },
    {
      "cell_type": "code",
      "source": [
        "a = np.array([[1,2],[3,4]])\n",
        "a"
      ],
      "metadata": {
        "colab": {
          "base_uri": "https://localhost:8080/"
        },
        "id": "NPy8Wgikx2xJ",
        "outputId": "138a970a-d24e-4398-b234-966294a2db45"
      },
      "execution_count": null,
      "outputs": [
        {
          "output_type": "execute_result",
          "data": {
            "text/plain": [
              "array([[1, 2],\n",
              "       [3, 4]])"
            ]
          },
          "metadata": {},
          "execution_count": 42
        }
      ]
    },
    {
      "cell_type": "code",
      "source": [
        "b = np.array([[2,3],[3,4]])\n",
        "b"
      ],
      "metadata": {
        "colab": {
          "base_uri": "https://localhost:8080/"
        },
        "id": "mz0H4tjayEsN",
        "outputId": "77566fcf-8b0d-45a9-e602-3309158d42c9"
      },
      "execution_count": null,
      "outputs": [
        {
          "output_type": "execute_result",
          "data": {
            "text/plain": [
              "array([[2, 3],\n",
              "       [3, 4]])"
            ]
          },
          "metadata": {},
          "execution_count": 43
        }
      ]
    },
    {
      "cell_type": "code",
      "source": [
        "a,b"
      ],
      "metadata": {
        "colab": {
          "base_uri": "https://localhost:8080/"
        },
        "id": "ZPFM9EdcyLtQ",
        "outputId": "672f7e26-dc88-4958-e834-a316d10e7ffc"
      },
      "execution_count": null,
      "outputs": [
        {
          "output_type": "execute_result",
          "data": {
            "text/plain": [
              "(array([[1, 2],\n",
              "        [3, 4]]),\n",
              " array([[2, 3],\n",
              "        [3, 4]]))"
            ]
          },
          "metadata": {},
          "execution_count": 44
        }
      ]
    },
    {
      "cell_type": "code",
      "source": [
        "a + b, a-b, a*b, a/b"
      ],
      "metadata": {
        "colab": {
          "base_uri": "https://localhost:8080/"
        },
        "id": "_gHGZS-dyUnM",
        "outputId": "0f185945-f383-4b57-c367-ca46ce0de6ec"
      },
      "execution_count": null,
      "outputs": [
        {
          "output_type": "execute_result",
          "data": {
            "text/plain": [
              "(array([[3, 5],\n",
              "        [6, 8]]),\n",
              " array([[-1, -1],\n",
              "        [ 0,  0]]),\n",
              " array([[ 2,  6],\n",
              "        [ 9, 16]]),\n",
              " array([[0.5       , 0.66666667],\n",
              "        [1.        , 1.        ]]))"
            ]
          },
          "metadata": {},
          "execution_count": 49
        }
      ]
    },
    {
      "cell_type": "markdown",
      "source": [
        "행렬연산"
      ],
      "metadata": {
        "id": "t-LDwMQTypDR"
      }
    },
    {
      "cell_type": "code",
      "source": [
        "a @ b"
      ],
      "metadata": {
        "colab": {
          "base_uri": "https://localhost:8080/"
        },
        "id": "SxXDO-m5yjDg",
        "outputId": "8f40dd08-b7cd-4571-e4be-e66fde8c39bd"
      },
      "execution_count": null,
      "outputs": [
        {
          "output_type": "execute_result",
          "data": {
            "text/plain": [
              "array([[ 8, 11],\n",
              "       [18, 25]])"
            ]
          },
          "metadata": {},
          "execution_count": 50
        }
      ]
    },
    {
      "cell_type": "code",
      "source": [
        "np.dot(a,b)"
      ],
      "metadata": {
        "colab": {
          "base_uri": "https://localhost:8080/"
        },
        "id": "g_bOYmqYyrs0",
        "outputId": "e502f376-2541-4742-8524-9967dc78a389"
      },
      "execution_count": null,
      "outputs": [
        {
          "output_type": "execute_result",
          "data": {
            "text/plain": [
              "array([[ 8, 11],\n",
              "       [18, 25]])"
            ]
          },
          "metadata": {},
          "execution_count": 51
        }
      ]
    },
    {
      "cell_type": "markdown",
      "source": [
        "비교연산\n",
        "- 같은 자리끼리 연산한다."
      ],
      "metadata": {
        "id": "5TV1Tfbty83D"
      }
    },
    {
      "cell_type": "code",
      "source": [
        "a == b"
      ],
      "metadata": {
        "colab": {
          "base_uri": "https://localhost:8080/"
        },
        "id": "aoe7xzd2ytXv",
        "outputId": "8b3c5011-e5b5-4697-8f4a-7d6078263ab6"
      },
      "execution_count": null,
      "outputs": [
        {
          "output_type": "execute_result",
          "data": {
            "text/plain": [
              "array([[False, False],\n",
              "       [ True,  True]])"
            ]
          },
          "metadata": {},
          "execution_count": 52
        }
      ]
    },
    {
      "cell_type": "code",
      "source": [
        "a > b"
      ],
      "metadata": {
        "colab": {
          "base_uri": "https://localhost:8080/"
        },
        "id": "TFZTR17SzCkT",
        "outputId": "31e2a6fc-ee8f-49f5-ab3e-84fac9e04852"
      },
      "execution_count": null,
      "outputs": [
        {
          "output_type": "execute_result",
          "data": {
            "text/plain": [
              "array([[False, False],\n",
              "       [False, False]])"
            ]
          },
          "metadata": {},
          "execution_count": 53
        }
      ]
    },
    {
      "cell_type": "markdown",
      "source": [
        "Broadcasting\n",
        "\n",
        ":\n",
        "두개가 모양이 같도록 변형한다."
      ],
      "metadata": {
        "id": "yksVPaDczYJp"
      }
    },
    {
      "cell_type": "code",
      "source": [
        "a"
      ],
      "metadata": {
        "colab": {
          "base_uri": "https://localhost:8080/"
        },
        "id": "kKg2QQirzWvd",
        "outputId": "6b6577fa-53c1-4faf-c3a3-642ca676df6b"
      },
      "execution_count": null,
      "outputs": [
        {
          "output_type": "execute_result",
          "data": {
            "text/plain": [
              "array([[1, 2],\n",
              "       [3, 4]])"
            ]
          },
          "metadata": {},
          "execution_count": 55
        }
      ]
    },
    {
      "cell_type": "code",
      "source": [
        "a + 3"
      ],
      "metadata": {
        "colab": {
          "base_uri": "https://localhost:8080/"
        },
        "id": "BnS7rRHgzIKt",
        "outputId": "5af625bd-18ce-4279-e6e0-d2bc3a2793ae"
      },
      "execution_count": null,
      "outputs": [
        {
          "output_type": "execute_result",
          "data": {
            "text/plain": [
              "array([[4, 5],\n",
              "       [6, 7]])"
            ]
          },
          "metadata": {},
          "execution_count": 54
        }
      ]
    },
    {
      "cell_type": "code",
      "source": [
        "a + [3]"
      ],
      "metadata": {
        "colab": {
          "base_uri": "https://localhost:8080/"
        },
        "id": "CX1iCBl6zV8X",
        "outputId": "c7d56fb5-14eb-4a27-86db-823eca41fe6d"
      },
      "execution_count": null,
      "outputs": [
        {
          "output_type": "execute_result",
          "data": {
            "text/plain": [
              "array([[4, 5],\n",
              "       [6, 7]])"
            ]
          },
          "metadata": {},
          "execution_count": 56
        }
      ]
    },
    {
      "cell_type": "code",
      "source": [
        "a + [2,1]"
      ],
      "metadata": {
        "colab": {
          "base_uri": "https://localhost:8080/"
        },
        "id": "w_RoYdPWzpee",
        "outputId": "768d6589-f418-4b6b-be60-cda812cbe357"
      },
      "execution_count": null,
      "outputs": [
        {
          "output_type": "execute_result",
          "data": {
            "text/plain": [
              "array([[3, 3],\n",
              "       [5, 5]])"
            ]
          },
          "metadata": {},
          "execution_count": 58
        }
      ]
    },
    {
      "cell_type": "markdown",
      "source": [
        "양쪽을 더해도 형태가 통합되지 않는 경우가 있다."
      ],
      "metadata": {
        "id": "CjMoA9HVzzG0"
      }
    },
    {
      "cell_type": "code",
      "source": [
        "a = np.arange(0,12).reshape(3,4)\n",
        "a"
      ],
      "metadata": {
        "colab": {
          "base_uri": "https://localhost:8080/"
        },
        "id": "DIkccmc-zuZR",
        "outputId": "3221b8d7-2007-4448-9302-2f304a142bbc"
      },
      "execution_count": null,
      "outputs": [
        {
          "output_type": "execute_result",
          "data": {
            "text/plain": [
              "array([[ 0,  1,  2,  3],\n",
              "       [ 4,  5,  6,  7],\n",
              "       [ 8,  9, 10, 11]])"
            ]
          },
          "metadata": {},
          "execution_count": 65
        }
      ]
    },
    {
      "cell_type": "markdown",
      "source": [
        "a의 모든 값을 더해라"
      ],
      "metadata": {
        "id": "uQT-jjJg0y1g"
      }
    },
    {
      "cell_type": "code",
      "source": [
        "np.sum(a)"
      ],
      "metadata": {
        "colab": {
          "base_uri": "https://localhost:8080/"
        },
        "id": "CWTgIODz0kbn",
        "outputId": "356fce3d-1c68-4eab-ca8a-5fc8d927e19b"
      },
      "execution_count": null,
      "outputs": [
        {
          "output_type": "execute_result",
          "data": {
            "text/plain": [
              "66"
            ]
          },
          "metadata": {},
          "execution_count": 66
        }
      ]
    },
    {
      "cell_type": "markdown",
      "source": [
        "a의 0번째 축을 더해라"
      ],
      "metadata": {
        "id": "rr0NKFnZ019D"
      }
    },
    {
      "cell_type": "code",
      "source": [
        "np.sum(a, axis=0)"
      ],
      "metadata": {
        "colab": {
          "base_uri": "https://localhost:8080/"
        },
        "id": "LZjjMfG30pag",
        "outputId": "ebd46260-365d-41f6-97f6-b1dd927a470b"
      },
      "execution_count": null,
      "outputs": [
        {
          "output_type": "execute_result",
          "data": {
            "text/plain": [
              "array([12, 15, 18, 21])"
            ]
          },
          "metadata": {},
          "execution_count": 67
        }
      ]
    },
    {
      "cell_type": "code",
      "source": [
        "a.sum(axis=0)"
      ],
      "metadata": {
        "colab": {
          "base_uri": "https://localhost:8080/"
        },
        "id": "r122dCVo1gJt",
        "outputId": "cd6c6c8c-9d4f-479a-f2ed-54c43d8eadd5"
      },
      "execution_count": null,
      "outputs": [
        {
          "output_type": "execute_result",
          "data": {
            "text/plain": [
              "array([12, 15, 18, 21])"
            ]
          },
          "metadata": {},
          "execution_count": 76
        }
      ]
    },
    {
      "cell_type": "markdown",
      "source": [
        "a의 1번째 축을 더해라"
      ],
      "metadata": {
        "id": "8c9iIooY1O4x"
      }
    },
    {
      "cell_type": "code",
      "source": [
        "np.sum(a, axis=1)"
      ],
      "metadata": {
        "colab": {
          "base_uri": "https://localhost:8080/"
        },
        "id": "feAygql406Rk",
        "outputId": "3b1b8c45-8ad2-451d-ae69-11d274041ab1"
      },
      "execution_count": null,
      "outputs": [
        {
          "output_type": "execute_result",
          "data": {
            "text/plain": [
              "array([ 6, 22, 38])"
            ]
          },
          "metadata": {},
          "execution_count": 68
        }
      ]
    },
    {
      "cell_type": "markdown",
      "source": [
        "a의 전체 평균을 구해라"
      ],
      "metadata": {
        "id": "8_EzCEvT1YcZ"
      }
    },
    {
      "cell_type": "code",
      "source": [
        "np.mean(a)\n",
        "a.dtype"
      ],
      "metadata": {
        "colab": {
          "base_uri": "https://localhost:8080/"
        },
        "id": "WAuxEwZm1Lbd",
        "outputId": "cbb0fefd-90d2-4ae8-fe1f-76e1fde5e5d5"
      },
      "execution_count": null,
      "outputs": [
        {
          "output_type": "execute_result",
          "data": {
            "text/plain": [
              "dtype('int64')"
            ]
          },
          "metadata": {},
          "execution_count": 72
        }
      ]
    },
    {
      "cell_type": "markdown",
      "source": [
        "a의 0번째 축의 평균을 구해라"
      ],
      "metadata": {
        "id": "fNjjhyOX1as8"
      }
    },
    {
      "cell_type": "code",
      "source": [
        "b = np.mean(a, axis=0)\n",
        "b.dtype"
      ],
      "metadata": {
        "colab": {
          "base_uri": "https://localhost:8080/"
        },
        "id": "3PKSj1761YBW",
        "outputId": "67e48354-8b29-4713-8292-7bd7ed23731b"
      },
      "execution_count": null,
      "outputs": [
        {
          "output_type": "execute_result",
          "data": {
            "text/plain": [
              "dtype('float64')"
            ]
          },
          "metadata": {},
          "execution_count": 75
        }
      ]
    },
    {
      "cell_type": "markdown",
      "source": [
        "### 슬라이싱(인덱싱)\n",
        ": 내가 필요한 데이터만 가져오자"
      ],
      "metadata": {
        "id": "RtdU30TT19Rh"
      }
    },
    {
      "cell_type": "markdown",
      "source": [
        "인덱싱\n",
        "\n",
        ": 하나만 가지고 옴"
      ],
      "metadata": {
        "id": "E6xGDtY92FrX"
      }
    },
    {
      "cell_type": "markdown",
      "source": [
        "슬라이싱\n",
        "\n",
        ": 범위 전체를 가지고 옴\n",
        "1. Boolean\n",
        "2."
      ],
      "metadata": {
        "id": "fDyJcaNW2PcV"
      }
    },
    {
      "cell_type": "code",
      "source": [
        "a = np.arange(10)\n",
        "a"
      ],
      "metadata": {
        "colab": {
          "base_uri": "https://localhost:8080/"
        },
        "id": "BSSnLeF31r6C",
        "outputId": "0f579991-ce58-458b-bfef-96aa540793e4"
      },
      "execution_count": null,
      "outputs": [
        {
          "output_type": "execute_result",
          "data": {
            "text/plain": [
              "array([0, 1, 2, 3, 4, 5, 6, 7, 8, 9])"
            ]
          },
          "metadata": {},
          "execution_count": 77
        }
      ]
    },
    {
      "cell_type": "code",
      "source": [
        "a[4]"
      ],
      "metadata": {
        "colab": {
          "base_uri": "https://localhost:8080/"
        },
        "id": "h2C0IfBvE-jr",
        "outputId": "24c5782d-c1b3-4cf0-f334-9d0454708b0a"
      },
      "execution_count": null,
      "outputs": [
        {
          "output_type": "execute_result",
          "data": {
            "text/plain": [
              "4"
            ]
          },
          "metadata": {},
          "execution_count": 79
        }
      ]
    },
    {
      "cell_type": "markdown",
      "source": [
        "1에서 4까지만 가져오자"
      ],
      "metadata": {
        "id": "q3sXr6rdFFaE"
      }
    },
    {
      "cell_type": "code",
      "source": [
        "a[1:4]"
      ],
      "metadata": {
        "colab": {
          "base_uri": "https://localhost:8080/"
        },
        "id": "r9OZV76EFAj6",
        "outputId": "52347044-dd06-4c73-bec6-b61ded6f9922"
      },
      "execution_count": null,
      "outputs": [
        {
          "output_type": "execute_result",
          "data": {
            "text/plain": [
              "array([1, 2, 3])"
            ]
          },
          "metadata": {},
          "execution_count": 80
        }
      ]
    },
    {
      "cell_type": "markdown",
      "source": [
        "전체 다 가져오자"
      ],
      "metadata": {
        "id": "uvQTx5QkFaHZ"
      }
    },
    {
      "cell_type": "code",
      "source": [
        "a[:]"
      ],
      "metadata": {
        "colab": {
          "base_uri": "https://localhost:8080/"
        },
        "id": "O-AOIq0kFL08",
        "outputId": "59e12179-9f3f-44b0-e0d4-71b384b8d34f"
      },
      "execution_count": null,
      "outputs": [
        {
          "output_type": "execute_result",
          "data": {
            "text/plain": [
              "array([0, 1, 2, 3, 4, 5, 6, 7, 8, 9])"
            ]
          },
          "metadata": {},
          "execution_count": 81
        }
      ]
    },
    {
      "cell_type": "markdown",
      "source": [
        "-1 : 제일 뒤를 의미"
      ],
      "metadata": {
        "id": "xm3aW2RWFdNP"
      }
    },
    {
      "cell_type": "code",
      "source": [
        "a[-1]"
      ],
      "metadata": {
        "colab": {
          "base_uri": "https://localhost:8080/"
        },
        "id": "FTJApb7dFZZq",
        "outputId": "3086129a-4af7-4b6c-ec34-32702a59d614"
      },
      "execution_count": null,
      "outputs": [
        {
          "output_type": "execute_result",
          "data": {
            "text/plain": [
              "9"
            ]
          },
          "metadata": {},
          "execution_count": 82
        }
      ]
    },
    {
      "cell_type": "code",
      "source": [
        "a[:-1]"
      ],
      "metadata": {
        "colab": {
          "base_uri": "https://localhost:8080/"
        },
        "id": "b-z8lpIlFfzL",
        "outputId": "c7adea68-3ece-4864-ca22-2333058867fa"
      },
      "execution_count": null,
      "outputs": [
        {
          "output_type": "execute_result",
          "data": {
            "text/plain": [
              "array([0, 1, 2, 3, 4, 5, 6, 7, 8])"
            ]
          },
          "metadata": {},
          "execution_count": 83
        }
      ]
    },
    {
      "cell_type": "code",
      "source": [
        "a[:-3:-1]"
      ],
      "metadata": {
        "colab": {
          "base_uri": "https://localhost:8080/"
        },
        "id": "o772X51rFlsE",
        "outputId": "ed3aac5f-def8-4bf9-e3fa-c1ad74b1a0af"
      },
      "execution_count": null,
      "outputs": [
        {
          "output_type": "execute_result",
          "data": {
            "text/plain": [
              "array([9, 8])"
            ]
          },
          "metadata": {},
          "execution_count": 84
        }
      ]
    },
    {
      "cell_type": "code",
      "source": [
        "a = np.arange(1,25).reshape(-1, 6)\n",
        "a"
      ],
      "metadata": {
        "colab": {
          "base_uri": "https://localhost:8080/"
        },
        "id": "SAxan6XAFzSz",
        "outputId": "d9515f12-01af-4edd-dd39-ca1b84c71464"
      },
      "execution_count": null,
      "outputs": [
        {
          "output_type": "execute_result",
          "data": {
            "text/plain": [
              "array([[ 1,  2,  3,  4,  5,  6],\n",
              "       [ 7,  8,  9, 10, 11, 12],\n",
              "       [13, 14, 15, 16, 17, 18],\n",
              "       [19, 20, 21, 22, 23, 24]])"
            ]
          },
          "metadata": {},
          "execution_count": 87
        }
      ]
    },
    {
      "cell_type": "code",
      "source": [
        "a[1]"
      ],
      "metadata": {
        "colab": {
          "base_uri": "https://localhost:8080/"
        },
        "id": "vYjxLppYF_b_",
        "outputId": "3bbb0fd0-8fe4-43d0-fadf-3f1707cb062c"
      },
      "execution_count": null,
      "outputs": [
        {
          "output_type": "execute_result",
          "data": {
            "text/plain": [
              "array([ 7,  8,  9, 10, 11, 12])"
            ]
          },
          "metadata": {},
          "execution_count": 88
        }
      ]
    },
    {
      "cell_type": "code",
      "source": [
        "a[1:3]"
      ],
      "metadata": {
        "colab": {
          "base_uri": "https://localhost:8080/"
        },
        "id": "mxWpazD4GRdh",
        "outputId": "64dc9f76-d0f2-4768-c023-a974377cb534"
      },
      "execution_count": null,
      "outputs": [
        {
          "output_type": "execute_result",
          "data": {
            "text/plain": [
              "array([[ 7,  8,  9, 10, 11, 12],\n",
              "       [13, 14, 15, 16, 17, 18]])"
            ]
          },
          "metadata": {},
          "execution_count": 89
        }
      ]
    },
    {
      "cell_type": "code",
      "source": [
        "a[0,1]"
      ],
      "metadata": {
        "colab": {
          "base_uri": "https://localhost:8080/"
        },
        "id": "cnisvrw5GbzF",
        "outputId": "8de483e3-9d82-4aef-a9a2-0c739bb79fc8"
      },
      "execution_count": null,
      "outputs": [
        {
          "output_type": "execute_result",
          "data": {
            "text/plain": [
              "2"
            ]
          },
          "metadata": {},
          "execution_count": 91
        }
      ]
    },
    {
      "cell_type": "code",
      "source": [
        "a[0:3, 1:3]"
      ],
      "metadata": {
        "colab": {
          "base_uri": "https://localhost:8080/"
        },
        "id": "FVqAqSiiGkEu",
        "outputId": "74266723-de4e-4645-8778-7dfe673d8c8c"
      },
      "execution_count": null,
      "outputs": [
        {
          "output_type": "execute_result",
          "data": {
            "text/plain": [
              "array([[ 2,  3],\n",
              "       [ 8,  9],\n",
              "       [14, 15]])"
            ]
          },
          "metadata": {},
          "execution_count": 92
        }
      ]
    },
    {
      "cell_type": "markdown",
      "source": [
        "Fancy indexing"
      ],
      "metadata": {
        "id": "9xgzcmWVG-3F"
      }
    },
    {
      "cell_type": "code",
      "source": [
        "a[[0, 2], [0,1]]"
      ],
      "metadata": {
        "colab": {
          "base_uri": "https://localhost:8080/"
        },
        "id": "tFLRW2KrGqCF",
        "outputId": "83f60c68-a448-49d0-97f0-76df064d6cab"
      },
      "execution_count": null,
      "outputs": [
        {
          "output_type": "execute_result",
          "data": {
            "text/plain": [
              "array([ 1, 14])"
            ]
          },
          "metadata": {},
          "execution_count": 94
        }
      ]
    },
    {
      "cell_type": "code",
      "source": [
        "a = np.arange(1,5)\n",
        "a"
      ],
      "metadata": {
        "colab": {
          "base_uri": "https://localhost:8080/"
        },
        "id": "mPK2I5j3G86v",
        "outputId": "74a5c05c-9463-4b4c-e8e2-f41cf1eabf66"
      },
      "execution_count": null,
      "outputs": [
        {
          "output_type": "execute_result",
          "data": {
            "text/plain": [
              "array([1, 2, 3, 4])"
            ]
          },
          "metadata": {},
          "execution_count": 95
        }
      ]
    },
    {
      "cell_type": "code",
      "source": [
        "a[[0,3]]"
      ],
      "metadata": {
        "colab": {
          "base_uri": "https://localhost:8080/"
        },
        "id": "umaOBmwLHdWg",
        "outputId": "ee19286b-b283-445c-9670-f75852bc2d39"
      },
      "execution_count": null,
      "outputs": [
        {
          "output_type": "execute_result",
          "data": {
            "text/plain": [
              "array([1, 4])"
            ]
          },
          "metadata": {},
          "execution_count": 96
        }
      ]
    },
    {
      "cell_type": "markdown",
      "source": [
        "Boolean indexing"
      ],
      "metadata": {
        "id": "Cc1_OaWGHgyP"
      }
    },
    {
      "cell_type": "code",
      "source": [
        "a[[True, False, True, False]]"
      ],
      "metadata": {
        "colab": {
          "base_uri": "https://localhost:8080/"
        },
        "id": "uXEVaA5CHe3R",
        "outputId": "6661e5b9-e08c-45a3-9298-be741707bf9c"
      },
      "execution_count": null,
      "outputs": [
        {
          "output_type": "execute_result",
          "data": {
            "text/plain": [
              "array([1, 3])"
            ]
          },
          "metadata": {},
          "execution_count": 98
        }
      ]
    },
    {
      "cell_type": "code",
      "source": [
        "a = np.arange(10)\n",
        "a"
      ],
      "metadata": {
        "colab": {
          "base_uri": "https://localhost:8080/"
        },
        "id": "TzdimacKHkXW",
        "outputId": "4f212fef-f3b9-451d-bd2e-1415fdb78671"
      },
      "execution_count": null,
      "outputs": [
        {
          "output_type": "execute_result",
          "data": {
            "text/plain": [
              "array([0, 1, 2, 3, 4, 5, 6, 7, 8, 9])"
            ]
          },
          "metadata": {},
          "execution_count": 99
        }
      ]
    },
    {
      "cell_type": "markdown",
      "source": [
        "5보다 큰 값만 가져온다."
      ],
      "metadata": {
        "id": "_FVobsIwHx9X"
      }
    },
    {
      "cell_type": "code",
      "source": [
        "a[a > 5]"
      ],
      "metadata": {
        "colab": {
          "base_uri": "https://localhost:8080/"
        },
        "id": "vrCMTk-dHv8B",
        "outputId": "d32a5578-209c-4b8e-aee3-3efa18244960"
      },
      "execution_count": null,
      "outputs": [
        {
          "output_type": "execute_result",
          "data": {
            "text/plain": [
              "array([6, 7, 8, 9])"
            ]
          },
          "metadata": {},
          "execution_count": 101
        }
      ]
    },
    {
      "cell_type": "markdown",
      "source": [
        "짝수만 뽑는다."
      ],
      "metadata": {
        "id": "yQe0ZZHNIKgl"
      }
    },
    {
      "cell_type": "code",
      "source": [
        "a[a%2==0]"
      ],
      "metadata": {
        "colab": {
          "base_uri": "https://localhost:8080/"
        },
        "id": "xqDPtOpQHz_W",
        "outputId": "5ecb2338-6164-46b7-a0ed-db991e20423c"
      },
      "execution_count": null,
      "outputs": [
        {
          "output_type": "execute_result",
          "data": {
            "text/plain": [
              "array([0, 2, 4, 6, 8])"
            ]
          },
          "metadata": {},
          "execution_count": 103
        }
      ]
    },
    {
      "cell_type": "code",
      "source": [
        "a = np.arange(12).reshape(3,4)\n",
        "a"
      ],
      "metadata": {
        "colab": {
          "base_uri": "https://localhost:8080/"
        },
        "id": "R_waPFMJIOkm",
        "outputId": "4f8fcfb6-0b65-4796-977b-65ac0a34926e"
      },
      "execution_count": null,
      "outputs": [
        {
          "output_type": "execute_result",
          "data": {
            "text/plain": [
              "array([[ 0,  1,  2,  3],\n",
              "       [ 4,  5,  6,  7],\n",
              "       [ 8,  9, 10, 11]])"
            ]
          },
          "metadata": {},
          "execution_count": 104
        }
      ]
    },
    {
      "cell_type": "markdown",
      "source": [
        "다시 1차원배열로 올리자"
      ],
      "metadata": {
        "id": "zEzZdekPIgz5"
      }
    },
    {
      "cell_type": "code",
      "source": [
        "a.reshape(-1)"
      ],
      "metadata": {
        "colab": {
          "base_uri": "https://localhost:8080/"
        },
        "id": "Qbv4-xcrIgCY",
        "outputId": "47e8bd75-5b23-4933-9d8b-db096005dd7e"
      },
      "execution_count": null,
      "outputs": [
        {
          "output_type": "execute_result",
          "data": {
            "text/plain": [
              "array([ 0,  1,  2,  3,  4,  5,  6,  7,  8,  9, 10, 11])"
            ]
          },
          "metadata": {},
          "execution_count": 105
        }
      ]
    },
    {
      "cell_type": "code",
      "source": [
        "a.ravel()"
      ],
      "metadata": {
        "colab": {
          "base_uri": "https://localhost:8080/"
        },
        "id": "507LOJBfIrFx",
        "outputId": "08f2a7d7-5a31-4c8d-d984-f80a419afe09"
      },
      "execution_count": null,
      "outputs": [
        {
          "output_type": "execute_result",
          "data": {
            "text/plain": [
              "array([ 0,  1,  2,  3,  4,  5,  6,  7,  8,  9, 10, 11])"
            ]
          },
          "metadata": {},
          "execution_count": 107
        }
      ]
    },
    {
      "cell_type": "code",
      "source": [
        "a = a.reshape(3,4)\n",
        "a"
      ],
      "metadata": {
        "colab": {
          "base_uri": "https://localhost:8080/"
        },
        "id": "OlxdhQhjIsyC",
        "outputId": "19ead617-49bf-4325-da0e-6f9880f6fe29"
      },
      "execution_count": null,
      "outputs": [
        {
          "output_type": "execute_result",
          "data": {
            "text/plain": [
              "array([[ 0,  1,  2,  3],\n",
              "       [ 4,  5,  6,  7],\n",
              "       [ 8,  9, 10, 11]])"
            ]
          },
          "metadata": {},
          "execution_count": 109
        }
      ]
    },
    {
      "cell_type": "code",
      "source": [
        "a = a.reshape(-1, 1)\n",
        "a"
      ],
      "metadata": {
        "colab": {
          "base_uri": "https://localhost:8080/"
        },
        "id": "wcLxR7w4I254",
        "outputId": "0f7a8e7b-8c15-46d7-95e3-6ff819cc82d0"
      },
      "execution_count": null,
      "outputs": [
        {
          "output_type": "execute_result",
          "data": {
            "text/plain": [
              "array([[ 0],\n",
              "       [ 1],\n",
              "       [ 2],\n",
              "       [ 3],\n",
              "       [ 4],\n",
              "       [ 5],\n",
              "       [ 6],\n",
              "       [ 7],\n",
              "       [ 8],\n",
              "       [ 9],\n",
              "       [10],\n",
              "       [11]])"
            ]
          },
          "metadata": {},
          "execution_count": 112
        }
      ]
    },
    {
      "cell_type": "code",
      "source": [
        "a.shape"
      ],
      "metadata": {
        "colab": {
          "base_uri": "https://localhost:8080/"
        },
        "id": "NogsjA7HI9nr",
        "outputId": "e794fc9a-171c-49ee-e765-76944580aa66"
      },
      "execution_count": null,
      "outputs": [
        {
          "output_type": "execute_result",
          "data": {
            "text/plain": [
              "(12, 1)"
            ]
          },
          "metadata": {},
          "execution_count": 113
        }
      ]
    },
    {
      "cell_type": "code",
      "source": [
        "a = a.reshape(-1)\n",
        "a"
      ],
      "metadata": {
        "colab": {
          "base_uri": "https://localhost:8080/"
        },
        "id": "ShPUr6VZJFMp",
        "outputId": "ce91d2d3-5f6a-4aba-a673-20061df652dd"
      },
      "execution_count": null,
      "outputs": [
        {
          "output_type": "execute_result",
          "data": {
            "text/plain": [
              "array([ 0,  1,  2,  3,  4,  5,  6,  7,  8,  9, 10, 11])"
            ]
          },
          "metadata": {},
          "execution_count": 116
        }
      ]
    },
    {
      "cell_type": "code",
      "source": [
        "a.shape"
      ],
      "metadata": {
        "colab": {
          "base_uri": "https://localhost:8080/"
        },
        "id": "GfjLAw3YJaQq",
        "outputId": "29260ffc-9a69-447c-f795-7676998621a5"
      },
      "execution_count": null,
      "outputs": [
        {
          "output_type": "execute_result",
          "data": {
            "text/plain": [
              "(12,)"
            ]
          },
          "metadata": {},
          "execution_count": 117
        }
      ]
    },
    {
      "cell_type": "code",
      "source": [
        "a = np.arange(1,5).reshape(2,2)\n",
        "a"
      ],
      "metadata": {
        "colab": {
          "base_uri": "https://localhost:8080/"
        },
        "id": "0XkSOBKSJfCP",
        "outputId": "b445ea02-c96b-45b3-8745-64feacec3204"
      },
      "execution_count": null,
      "outputs": [
        {
          "output_type": "execute_result",
          "data": {
            "text/plain": [
              "array([[1, 2],\n",
              "       [3, 4]])"
            ]
          },
          "metadata": {},
          "execution_count": 120
        }
      ]
    },
    {
      "cell_type": "code",
      "source": [
        "b = np.zeros_like(a)\n",
        "b"
      ],
      "metadata": {
        "colab": {
          "base_uri": "https://localhost:8080/"
        },
        "id": "pfxWI17wJsXc",
        "outputId": "0b8401f8-eb94-4ca0-d49f-137fa0583110"
      },
      "execution_count": null,
      "outputs": [
        {
          "output_type": "execute_result",
          "data": {
            "text/plain": [
              "array([[0, 0],\n",
              "       [0, 0]])"
            ]
          },
          "metadata": {},
          "execution_count": 121
        }
      ]
    },
    {
      "cell_type": "markdown",
      "source": [
        "결합을 하려면 shape이 비슷해야 한다.\n",
        "\n",
        "두 개의 array 합치기\n",
        "\n",
        "- 0번째 축으로 -> 아래에 붙임\n",
        "- 1번째 축으로 -> 오른쪽에 붙임"
      ],
      "metadata": {
        "id": "ZitXOrUnP2KV"
      }
    },
    {
      "cell_type": "code",
      "source": [
        "np.concatenate((a,b), axis=0)"
      ],
      "metadata": {
        "colab": {
          "base_uri": "https://localhost:8080/"
        },
        "id": "6fLu42kmJxr9",
        "outputId": "f9d9d3db-0b55-4253-ced0-01135b62ad75"
      },
      "execution_count": null,
      "outputs": [
        {
          "output_type": "execute_result",
          "data": {
            "text/plain": [
              "array([[1, 2],\n",
              "       [3, 4],\n",
              "       [0, 0],\n",
              "       [0, 0]])"
            ]
          },
          "metadata": {},
          "execution_count": 122
        }
      ]
    },
    {
      "cell_type": "code",
      "source": [
        "np.concatenate((a,b), axis=1)"
      ],
      "metadata": {
        "colab": {
          "base_uri": "https://localhost:8080/"
        },
        "id": "d_0h9bSNQQHT",
        "outputId": "55eebb4b-5e13-4acd-c86d-4728d094564d"
      },
      "execution_count": null,
      "outputs": [
        {
          "output_type": "execute_result",
          "data": {
            "text/plain": [
              "array([[1, 2, 0, 0],\n",
              "       [3, 4, 0, 0]])"
            ]
          },
          "metadata": {},
          "execution_count": 123
        }
      ]
    },
    {
      "cell_type": "code",
      "source": [],
      "metadata": {
        "id": "Vp2rd0fxQUub"
      },
      "execution_count": null,
      "outputs": []
    }
  ]
}